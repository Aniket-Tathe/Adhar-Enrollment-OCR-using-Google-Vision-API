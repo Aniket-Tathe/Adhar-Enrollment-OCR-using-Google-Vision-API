{
 "cells": [
  {
   "cell_type": "code",
   "execution_count": 1,
   "id": "2d1a217a",
   "metadata": {},
   "outputs": [],
   "source": [
    "import cv2\n",
    "import numpy as np\n",
    "import os"
   ]
  },
  {
   "cell_type": "code",
   "execution_count": 2,
   "id": "87931a1b",
   "metadata": {},
   "outputs": [
    {
     "name": "stdout",
     "output_type": "stream",
     "text": [
      "3340 2480 3\n"
     ]
    }
   ],
   "source": [
    "imgQ=cv2.imread(\"C:\\\\Users\\\\LENOVO\\\\Desktop\\\\Files\\\\Inteliment\\\\Data\\\\aadhaar_enrolment_correction_form_version_2.1-1.jpg\")\n",
    "\n",
    "orb=cv2.ORB_create(6500)\n",
    "kp1,des1=orb.detectAndCompute(imgQ,None)\n",
    "imgKp1=cv2.drawKeypoints(imgQ,kp1,None)\n",
    "cv2.imshow('keypoints',imgKp1) # to display key points\n",
    "h1,w1,c1=imgQ.shape\n",
    "print(h1,w1,c1)\n",
    "cv2.imshow('output',imgQ)\n",
    "cv2.waitKey(5000) # for 10sec then close\n",
    "cv2.destroyAllWindows()"
   ]
  },
  {
   "cell_type": "code",
   "execution_count": 3,
   "id": "f14e3cba",
   "metadata": {},
   "outputs": [
    {
     "name": "stdout",
     "output_type": "stream",
     "text": [
      "['3.jpg']\n"
     ]
    }
   ],
   "source": [
    "path='C:\\\\Users\\\\LENOVO\\\\Desktop\\\\Files\\\\Inteliment\\\\Data\\\\piclist'\n",
    "\n",
    "Piclist=os.listdir(path)\n",
    "\n",
    "print(Piclist)\n"
   ]
  },
  {
   "cell_type": "code",
   "execution_count": 4,
   "id": "81532c92",
   "metadata": {},
   "outputs": [],
   "source": [
    "for y in Piclist:\n",
    "    img=cv2.imread(path+'\\\\'+y)\n",
    "    h,w,c=img.shape\n",
    "    #print(h,w)\n",
    "    #img=cv2.resize(img,(w//3,h//3))\n",
    "    #h,w,c=img.shape\n",
    "    #print(h,w)\n",
    "    #cv2.imshow(y,img)\n",
    "    #cv2.waitKey(4000)\n",
    "    #cv2.destroyAllWindows()\n",
    "    kp2,des2=orb.detectAndCompute(img,None)\n",
    "    bf=cv2.BFMatcher(cv2.NORM_HAMMING)\n",
    "    matches=bf.match(des2,des1) # map des2 to des1\n",
    "    matches=list(matches)\n",
    "    matches.sort(key=lambda x: x.distance)\n",
    "    good=matches[:int(len(matches)*(95/100))]\n",
    "    imgMatch=cv2.drawMatches(img,kp2,imgQ,kp1,good,None,flags=2)\n",
    "    #imgMatch=cv2.resize(imgMatch,(w//3,h//3))\n",
    "    #cv2.imshow(y,imgMatch)\n",
    "    #cv2.waitKey(4000)\n",
    "    #cv2.destroyAllWindows()\n",
    "    \n",
    "    srcPoints=np.float32([kp2[m.queryIdx].pt for m in good]).reshape(-1,1,2)\n",
    "    dstPoints=np.float32([kp1[m.trainIdx].pt for m in good]).reshape(-1,1,2)\n",
    "    \n",
    "    M,_=cv2.findHomography(srcPoints,dstPoints,cv2.RANSAC,5.0)\n",
    "    imgScan=cv2.warpPerspective(img,M,(w,h))\n",
    "    #imgScan=cv2.resize(imgScan,(w//3,h//3))\n",
    "    cv2.imshow(y,imgScan)\n",
    "    cv2.waitKey(4000)\n",
    "    cv2.destroyAllWindows()\n",
    "    imgShow=imgScan.copy()\n",
    "    imgMask=np.zeros_like(imgShow)"
   ]
  },
  {
   "cell_type": "code",
   "execution_count": 5,
   "id": "d188e5dd",
   "metadata": {},
   "outputs": [],
   "source": [
    "roi6=[[(113, 506), (144, 541), 'box', 'resident'],\n",
    "      [(410, 506), (444, 541), 'box', 'nri'], \n",
    "      [(213, 627), (1220, 727), 'text', 'pre enrollment id'],\n",
    "      [(1341, 641), (2096, 710), 'text', 'aadhar number'],\n",
    "      [(241, 755), (275, 786), 'box', 'biometric'],\n",
    "      [(1072, 755), (1110, 782), 'box', 'number'],\n",
    "      [(1279, 751), (1310, 786), 'box', 'date of birth'],\n",
    "      [(1575, 755), (1617, 796), 'box', 'address'], \n",
    "      [(1800, 751), (1837, 793), 'box', 'name'],\n",
    "      [(1982, 748), (2020, 796), 'box', 'gender'],\n",
    "      [(2193, 751), (2234, 793), 'box', 'email'],\n",
    "      [(417, 831), (2172, 917), 'text', 'name'], \n",
    "      [(406, 965), (437, 1000), 'box', 'male'],\n",
    "      [(589, 965), (627, 996), 'box', 'female'],\n",
    "      [(807, 958), (838, 983), 'box', 'transgender'],\n",
    "      [(1427, 917), (1524, 1034), 'text', 'age'],\n",
    "      [(1975, 913), (2368, 968), 'text', 'date of birth'],\n",
    "      [(1693, 989), (1731, 1017), 'box', 'declared'], \n",
    "      [(2034, 986), (2068, 1020), 'box', 'verified'],\n",
    "      [(472, 1051), (1548, 1144), 'text', 'address'], \n",
    "      [(617, 1127), (1234, 1224), 'text', 'house no/apartment'],\n",
    "      [(1624, 1134), (2372, 1224), 'text', 'road/lane'],\n",
    "      [(420, 1213), (1241, 1303), 'text', 'landmark'],\n",
    "      [(1672, 1213), (2372, 1303), 'text', 'area/locality'],\n",
    "      [(575, 1300), (1158, 1389), 'text', 'village/town/city'],\n",
    "      [(1489, 1303), (2348, 1379), 'text', 'post office'],\n",
    "      [(379, 1386), (927, 1468), 'text', 'district'],\n",
    "      [(1179, 1382), (1644, 1468), 'text', 'sub-district'],\n",
    "      [(1786, 1379), (2375, 1468), 'text', 'state'],\n",
    "      [(351, 1472), (924, 1551), 'text', 'email'],\n",
    "      [(1172, 1462), (1644, 1555), 'text', 'mobile number'],\n",
    "      [(1851, 1468), (2362, 1551), 'text', 'pincode'],\n",
    "      [(444, 1568), (482, 1603), 'box', 'father'],\n",
    "      [(662, 1568), (696, 1603), 'box', 'mother'],\n",
    "      [(896, 1572), (927, 1606), 'box', 'guardian'],\n",
    "      [(1155, 1572), (1189, 1600), 'box', 'husband'],\n",
    "      [(1406, 1572), (1441, 1603), 'box', 'wife'], \n",
    "      [(362, 1682), (2362, 1755), 'text', 'name of father/mother/etc'],\n",
    "      [(534, 1751), (2027, 1824), 'text', 'aadhar of father/mother/etc'], \n",
    "      [(482, 1848), (506, 1879), 'box', 'document based'],\n",
    "      [(872, 1848), (903, 1875), 'box', 'introducer based'],\n",
    "      [(1265, 1848), (1293, 1879), 'box', 'head of family'],\n",
    "      [(351, 2110), (1234, 2182), 'text', 'poi'],\n",
    "      [(1493, 2103), (2365, 2182), 'text', 'poa'], \n",
    "      [(362, 2200), (744, 2244), 'text', 'dob1'], \n",
    "      [(679, 2200), (1231, 2282), 'text', 'dob2'],\n",
    "      [(1500, 2200), (2365, 2248), 'text', 'por'],\n",
    "      [(451, 2386), (917, 2455), 'text', 'introducer aadhar number'],\n",
    "      [(1410, 2317), (1441, 2344), 'box', 'hof father'],\n",
    "      [(1593, 2317), (1624, 2348), 'box', 'hof mother'],\n",
    "      [(1793, 2317), (1824, 2344), 'box', 'hof guardian'],\n",
    "      [(2017, 2320), (2051, 2348), 'box', 'hof husband'],\n",
    "      [(2241, 2317), (2275, 2351), 'box', 'hof wife'],\n",
    "      [(1362, 2362), (2365, 2455), 'text', 'hof aadhar number'],\n",
    "      [(903, 2479), (1724, 2548), 'text', 'confirm identity'],\n",
    "      [(575, 2565), (1300, 2648), 'text', 'introducer hof name'],\n",
    "      [(1817, 2548), (2365, 2644), 'sign', 'sign of hof'],\n",
    "      [(113, 2886), (520, 2989), 'sign', 'verifier sign/stamp'],\n",
    "      [(1893, 2886), (2368, 3044), 'sign', 'applicant'],\n",
    "      [(1827, 3158), (2362, 3248), 'text', 'date and time of enrollment']]"
   ]
  },
  {
   "cell_type": "code",
   "execution_count": 6,
   "id": "e6e608e9",
   "metadata": {},
   "outputs": [],
   "source": [
    "from transformers import TrOCRProcessor,VisionEncoderDecoderModel"
   ]
  },
  {
   "cell_type": "code",
   "execution_count": 7,
   "id": "16907ece",
   "metadata": {},
   "outputs": [],
   "source": [
    "from PIL import Image\n",
    "from IPython.display import display"
   ]
  },
  {
   "cell_type": "code",
   "execution_count": 8,
   "id": "2e98b566",
   "metadata": {},
   "outputs": [],
   "source": [
    "from transformers import (\n",
    "    TrOCRConfig,\n",
    "    TrOCRProcessor,\n",
    "    TrOCRForCausalLM,\n",
    "    ViTConfig,\n",
    "    ViTModel,\n",
    "    VisionEncoderDecoderModel,\n",
    ")"
   ]
  },
  {
   "cell_type": "code",
   "execution_count": 9,
   "id": "8131b01d",
   "metadata": {},
   "outputs": [
    {
     "name": "stderr",
     "output_type": "stream",
     "text": [
      "Some weights of VisionEncoderDecoderModel were not initialized from the model checkpoint at microsoft/trocr-base-handwritten and are newly initialized: ['encoder.pooler.dense.weight', 'encoder.pooler.dense.bias']\n",
      "You should probably TRAIN this model on a down-stream task to be able to use it for predictions and inference.\n"
     ]
    }
   ],
   "source": [
    "processor = TrOCRProcessor.from_pretrained(\"microsoft/trocr-base-handwritten\")\n",
    "model = VisionEncoderDecoderModel.from_pretrained(\"microsoft/trocr-base-handwritten\")"
   ]
  },
  {
   "cell_type": "code",
   "execution_count": 10,
   "id": "7113a554",
   "metadata": {},
   "outputs": [],
   "source": [
    "def ocr_image(src_img):\n",
    "    pixel_values = processor(images=src_img, return_tensors=\"pt\").pixel_values\n",
    "    generated_ids = model.generate(pixel_values)\n",
    "    return processor.batch_decode(generated_ids, skip_special_tokens=True)[0]"
   ]
  },
  {
   "cell_type": "code",
   "execution_count": 11,
   "id": "0136daf0",
   "metadata": {},
   "outputs": [],
   "source": [
    "myData=[]"
   ]
  },
  {
   "cell_type": "code",
   "execution_count": 14,
   "id": "75d667a9",
   "metadata": {},
   "outputs": [
    {
     "name": "stdout",
     "output_type": "stream",
     "text": [
      "resident:1\n",
      "nri:0\n"
     ]
    },
    {
     "name": "stderr",
     "output_type": "stream",
     "text": [
      "The attention mask and the pad token id were not set. As a consequence, you may observe unexpected behavior. Please pass your input's `attention_mask` to obtain reliable results.\n",
      "Setting `pad_token_id` to `eos_token_id`:2 for open-end generation.\n"
     ]
    },
    {
     "name": "stdout",
     "output_type": "stream",
     "text": [
      "pre enrollment id:0 0000000000000000000000000000000000000000000000000000000\n"
     ]
    },
    {
     "name": "stderr",
     "output_type": "stream",
     "text": [
      "The attention mask and the pad token id were not set. As a consequence, you may observe unexpected behavior. Please pass your input's `attention_mask` to obtain reliable results.\n",
      "Setting `pad_token_id` to `eos_token_id`:2 for open-end generation.\n"
     ]
    },
    {
     "name": "stdout",
     "output_type": "stream",
     "text": [
      "aadhar number:NZB.4156m.819.101 )\n",
      "biometric:1\n",
      "number:1\n",
      "date of birth:0\n",
      "address:0\n",
      "name:0\n",
      "gender:0\n",
      "email:0\n"
     ]
    },
    {
     "name": "stderr",
     "output_type": "stream",
     "text": [
      "The attention mask and the pad token id were not set. As a consequence, you may observe unexpected behavior. Please pass your input's `attention_mask` to obtain reliable results.\n",
      "Setting `pad_token_id` to `eos_token_id`:2 for open-end generation.\n"
     ]
    },
    {
     "name": "stdout",
     "output_type": "stream",
     "text": [
      "name:Shawnak Samir Sindgi 2001\n",
      "male:1\n",
      "female:0\n",
      "transgender:0\n"
     ]
    },
    {
     "name": "stderr",
     "output_type": "stream",
     "text": [
      "The attention mask and the pad token id were not set. As a consequence, you may observe unexpected behavior. Please pass your input's `attention_mask` to obtain reliable results.\n",
      "Setting `pad_token_id` to `eos_token_id`:2 for open-end generation.\n"
     ]
    },
    {
     "name": "stdout",
     "output_type": "stream",
     "text": [
      "age:2 1\n"
     ]
    },
    {
     "name": "stderr",
     "output_type": "stream",
     "text": [
      "The attention mask and the pad token id were not set. As a consequence, you may observe unexpected behavior. Please pass your input's `attention_mask` to obtain reliable results.\n",
      "Setting `pad_token_id` to `eos_token_id`:2 for open-end generation.\n"
     ]
    },
    {
     "name": "stdout",
     "output_type": "stream",
     "text": [
      "date of birth:071811200 1.\n",
      "declared:0\n",
      "verified:0\n"
     ]
    },
    {
     "name": "stderr",
     "output_type": "stream",
     "text": [
      "The attention mask and the pad token id were not set. As a consequence, you may observe unexpected behavior. Please pass your input's `attention_mask` to obtain reliable results.\n",
      "Setting `pad_token_id` to `eos_token_id`:2 for open-end generation.\n"
     ]
    },
    {
     "name": "stdout",
     "output_type": "stream",
     "text": [
      "address:a b c d e f g h i joint description of the American American Americans and the\n"
     ]
    },
    {
     "name": "stderr",
     "output_type": "stream",
     "text": [
      "The attention mask and the pad token id were not set. As a consequence, you may observe unexpected behavior. Please pass your input's `attention_mask` to obtain reliable results.\n",
      "Setting `pad_token_id` to `eos_token_id`:2 for open-end generation.\n"
     ]
    },
    {
     "name": "stdout",
     "output_type": "stream",
     "text": [
      "house no/apartment:100glas #\n"
     ]
    },
    {
     "name": "stderr",
     "output_type": "stream",
     "text": [
      "The attention mask and the pad token id were not set. As a consequence, you may observe unexpected behavior. Please pass your input's `attention_mask` to obtain reliable results.\n",
      "Setting `pad_token_id` to `eos_token_id`:2 for open-end generation.\n"
     ]
    },
    {
     "name": "stdout",
     "output_type": "stream",
     "text": [
      "road/lane:Prabhat Road, Lane-14\n"
     ]
    },
    {
     "name": "stderr",
     "output_type": "stream",
     "text": [
      "The attention mask and the pad token id were not set. As a consequence, you may observe unexpected behavior. Please pass your input's `attention_mask` to obtain reliable results.\n",
      "Setting `pad_token_id` to `eos_token_id`:2 for open-end generation.\n"
     ]
    },
    {
     "name": "stdout",
     "output_type": "stream",
     "text": [
      "landmark:Income tax, lane\n"
     ]
    },
    {
     "name": "stderr",
     "output_type": "stream",
     "text": [
      "The attention mask and the pad token id were not set. As a consequence, you may observe unexpected behavior. Please pass your input's `attention_mask` to obtain reliable results.\n",
      "Setting `pad_token_id` to `eos_token_id`:2 for open-end generation.\n"
     ]
    },
    {
     "name": "stdout",
     "output_type": "stream",
     "text": [
      "area/locality:Brandwine\n"
     ]
    },
    {
     "name": "stderr",
     "output_type": "stream",
     "text": [
      "The attention mask and the pad token id were not set. As a consequence, you may observe unexpected behavior. Please pass your input's `attention_mask` to obtain reliable results.\n",
      "Setting `pad_token_id` to `eos_token_id`:2 for open-end generation.\n"
     ]
    },
    {
     "name": "stdout",
     "output_type": "stream",
     "text": [
      "village/town/city:Pune City.\n"
     ]
    },
    {
     "name": "stderr",
     "output_type": "stream",
     "text": [
      "The attention mask and the pad token id were not set. As a consequence, you may observe unexpected behavior. Please pass your input's `attention_mask` to obtain reliable results.\n",
      "Setting `pad_token_id` to `eos_token_id`:2 for open-end generation.\n"
     ]
    },
    {
     "name": "stdout",
     "output_type": "stream",
     "text": [
      "post office:Deccan.\n"
     ]
    },
    {
     "name": "stderr",
     "output_type": "stream",
     "text": [
      "The attention mask and the pad token id were not set. As a consequence, you may observe unexpected behavior. Please pass your input's `attention_mask` to obtain reliable results.\n",
      "Setting `pad_token_id` to `eos_token_id`:2 for open-end generation.\n"
     ]
    },
    {
     "name": "stdout",
     "output_type": "stream",
     "text": [
      "district:Pune 500\n"
     ]
    },
    {
     "name": "stderr",
     "output_type": "stream",
     "text": [
      "The attention mask and the pad token id were not set. As a consequence, you may observe unexpected behavior. Please pass your input's `attention_mask` to obtain reliable results.\n",
      "Setting `pad_token_id` to `eos_token_id`:2 for open-end generation.\n"
     ]
    },
    {
     "name": "stdout",
     "output_type": "stream",
     "text": [
      "sub-district:What links hereRelated changesUpload fileSpecial pagesPermanent linkPage informationCite this pageWik\n"
     ]
    },
    {
     "name": "stderr",
     "output_type": "stream",
     "text": [
      "The attention mask and the pad token id were not set. As a consequence, you may observe unexpected behavior. Please pass your input's `attention_mask` to obtain reliable results.\n",
      "Setting `pad_token_id` to `eos_token_id`:2 for open-end generation.\n"
     ]
    },
    {
     "name": "stdout",
     "output_type": "stream",
     "text": [
      "state:maharashtra.\n"
     ]
    },
    {
     "name": "stderr",
     "output_type": "stream",
     "text": [
      "The attention mask and the pad token id were not set. As a consequence, you may observe unexpected behavior. Please pass your input's `attention_mask` to obtain reliable results.\n",
      "Setting `pad_token_id` to `eos_token_id`:2 for open-end generation.\n"
     ]
    },
    {
     "name": "stdout",
     "output_type": "stream",
     "text": [
      "email:shawenah 1/2Ogmail.\n"
     ]
    },
    {
     "name": "stderr",
     "output_type": "stream",
     "text": [
      "The attention mask and the pad token id were not set. As a consequence, you may observe unexpected behavior. Please pass your input's `attention_mask` to obtain reliable results.\n",
      "Setting `pad_token_id` to `eos_token_id`:2 for open-end generation.\n"
     ]
    },
    {
     "name": "stdout",
     "output_type": "stream",
     "text": [
      "mobile number:9850893837\n"
     ]
    },
    {
     "name": "stderr",
     "output_type": "stream",
     "text": [
      "The attention mask and the pad token id were not set. As a consequence, you may observe unexpected behavior. Please pass your input's `attention_mask` to obtain reliable results.\n",
      "Setting `pad_token_id` to `eos_token_id`:2 for open-end generation.\n"
     ]
    },
    {
     "name": "stdout",
     "output_type": "stream",
     "text": [
      "pincode:4,0004.\n",
      "father:1\n",
      "mother:0\n",
      "guardian:0\n",
      "husband:0\n",
      "wife:1\n"
     ]
    },
    {
     "name": "stderr",
     "output_type": "stream",
     "text": [
      "The attention mask and the pad token id were not set. As a consequence, you may observe unexpected behavior. Please pass your input's `attention_mask` to obtain reliable results.\n",
      "Setting `pad_token_id` to `eos_token_id`:2 for open-end generation.\n"
     ]
    },
    {
     "name": "stdout",
     "output_type": "stream",
     "text": [
      "name of father/mother/etc:Samir Sindgi 1951\n"
     ]
    },
    {
     "name": "stderr",
     "output_type": "stream",
     "text": [
      "The attention mask and the pad token id were not set. As a consequence, you may observe unexpected behavior. Please pass your input's `attention_mask` to obtain reliable results.\n",
      "Setting `pad_token_id` to `eos_token_id`:2 for open-end generation.\n"
     ]
    },
    {
     "name": "stdout",
     "output_type": "stream",
     "text": [
      "aadhar of father/mother/etc:9876543210.\n",
      "document based:1\n",
      "introducer based:0\n",
      "head of family:0\n"
     ]
    },
    {
     "name": "stderr",
     "output_type": "stream",
     "text": [
      "The attention mask and the pad token id were not set. As a consequence, you may observe unexpected behavior. Please pass your input's `attention_mask` to obtain reliable results.\n",
      "Setting `pad_token_id` to `eos_token_id`:2 for open-end generation.\n"
     ]
    },
    {
     "name": "stdout",
     "output_type": "stream",
     "text": [
      "poi:4,0004.\n"
     ]
    },
    {
     "name": "stderr",
     "output_type": "stream",
     "text": [
      "The attention mask and the pad token id were not set. As a consequence, you may observe unexpected behavior. Please pass your input's `attention_mask` to obtain reliable results.\n",
      "Setting `pad_token_id` to `eos_token_id`:2 for open-end generation.\n"
     ]
    },
    {
     "name": "stdout",
     "output_type": "stream",
     "text": [
      "poa:1234566.\n"
     ]
    },
    {
     "name": "stderr",
     "output_type": "stream",
     "text": [
      "The attention mask and the pad token id were not set. As a consequence, you may observe unexpected behavior. Please pass your input's `attention_mask` to obtain reliable results.\n",
      "Setting `pad_token_id` to `eos_token_id`:2 for open-end generation.\n"
     ]
    },
    {
     "name": "stdout",
     "output_type": "stream",
     "text": [
      "dob1:07 ( 7011,\n"
     ]
    },
    {
     "name": "stderr",
     "output_type": "stream",
     "text": [
      "The attention mask and the pad token id were not set. As a consequence, you may observe unexpected behavior. Please pass your input's `attention_mask` to obtain reliable results.\n",
      "Setting `pad_token_id` to `eos_token_id`:2 for open-end generation.\n"
     ]
    },
    {
     "name": "stdout",
     "output_type": "stream",
     "text": [
      "dob2:soliver\n"
     ]
    },
    {
     "name": "stderr",
     "output_type": "stream",
     "text": [
      "The attention mask and the pad token id were not set. As a consequence, you may observe unexpected behavior. Please pass your input's `attention_mask` to obtain reliable results.\n",
      "Setting `pad_token_id` to `eos_token_id`:2 for open-end generation.\n"
     ]
    },
    {
     "name": "stdout",
     "output_type": "stream",
     "text": [
      "por:abcde 2000\n"
     ]
    },
    {
     "name": "stderr",
     "output_type": "stream",
     "text": [
      "The attention mask and the pad token id were not set. As a consequence, you may observe unexpected behavior. Please pass your input's `attention_mask` to obtain reliable results.\n",
      "Setting `pad_token_id` to `eos_token_id`:2 for open-end generation.\n"
     ]
    },
    {
     "name": "stdout",
     "output_type": "stream",
     "text": [
      "introducer aadhar number:a b c d e f g h. The Great Britain and the American Revolution of the American\n",
      "hof father:0\n",
      "hof mother:0\n",
      "hof guardian:1\n",
      "hof husband:0\n",
      "hof wife:1\n"
     ]
    },
    {
     "name": "stderr",
     "output_type": "stream",
     "text": [
      "The attention mask and the pad token id were not set. As a consequence, you may observe unexpected behavior. Please pass your input's `attention_mask` to obtain reliable results.\n",
      "Setting `pad_token_id` to `eos_token_id`:2 for open-end generation.\n"
     ]
    },
    {
     "name": "stdout",
     "output_type": "stream",
     "text": [
      "hof aadhar number:a b c d e f g h i j k l m n o.\n"
     ]
    },
    {
     "name": "stderr",
     "output_type": "stream",
     "text": [
      "The attention mask and the pad token id were not set. As a consequence, you may observe unexpected behavior. Please pass your input's `attention_mask` to obtain reliable results.\n",
      "Setting `pad_token_id` to `eos_token_id`:2 for open-end generation.\n"
     ]
    },
    {
     "name": "stdout",
     "output_type": "stream",
     "text": [
      "confirm identity:Shaunah Sindgi,\n"
     ]
    },
    {
     "name": "stderr",
     "output_type": "stream",
     "text": [
      "The attention mask and the pad token id were not set. As a consequence, you may observe unexpected behavior. Please pass your input's `attention_mask` to obtain reliable results.\n",
      "Setting `pad_token_id` to `eos_token_id`:2 for open-end generation.\n"
     ]
    },
    {
     "name": "stdout",
     "output_type": "stream",
     "text": [
      "introducer hof name:1961 62\n"
     ]
    },
    {
     "name": "stderr",
     "output_type": "stream",
     "text": [
      "The attention mask and the pad token id were not set. As a consequence, you may observe unexpected behavior. Please pass your input's `attention_mask` to obtain reliable results.\n",
      "Setting `pad_token_id` to `eos_token_id`:2 for open-end generation.\n"
     ]
    },
    {
     "name": "stdout",
     "output_type": "stream",
     "text": [
      "date and time of enrollment:wednesday.\n"
     ]
    }
   ],
   "source": [
    "for x,r in enumerate(roi6):\n",
    "    cv2.rectangle(imgMask,((r[0][0]),r[0][1]),((r[1][0]),r[1][1]),(0,255,0),cv2.FILLED)\n",
    "    imgShow=cv2.addWeighted(imgShow,0.99,imgMask,0.1,0)\n",
    "    \n",
    "    imgCrop=imgScan[r[0][1]:r[1][1],r[0][0]:r[1][0]]\n",
    "    cv2.imshow(str(x),imgCrop)\n",
    "    cv2.waitKey(1000)\n",
    "    cv2.destroyAllWindows()\n",
    "    if r[2]=='text':\n",
    "        result=ocr_image(imgCrop)\n",
    "        print(f'{r[3]}:{result}')\n",
    "        myData.append(result)\n",
    "    if r[2]=='sign':\n",
    "        cv2.imwrite(\"C://Users//LENOVO//Desktop//Files//Inteliment//Testing_codes//Signs_TrOCR//Sign.jpg\",imgCrop)\n",
    "    if r[2]=='box':\n",
    "        image_array=imgCrop\n",
    "        gray_scale_image = cv2.cvtColor(image_array, cv2.COLOR_BGR2GRAY)\n",
    "        _, img_bin = cv2.threshold(gray_scale_image, 0, 255, cv2.THRESH_BINARY | cv2.THRESH_OTSU)\n",
    "        img_bin = 255 - img_bin\n",
    "        line_min_width = 11\n",
    "\n",
    "        # kernel to detect horizontal lines\n",
    "        kernal_h = np.ones((1,line_min_width), np.uint8)\n",
    "\n",
    "        # kernel to detect vertical lines\n",
    "        kernal_v = np.ones((line_min_width,1), np.uint8)\n",
    "\n",
    "        # horizontal kernel on the image\n",
    "        img_bin_h= cv2.morphologyEx(img_bin, cv2.MORPH_OPEN, kernal_h)\n",
    "\n",
    "        # verical kernel on the image\n",
    "        img_bin_v = cv2.morphologyEx(img_bin, cv2.MORPH_OPEN, kernal_v)\n",
    "\n",
    "\n",
    "        # combining the image\n",
    "\n",
    "        img_bin_final=img_bin_h|img_bin_v\n",
    "        _, labels, stats,_ = cv2.connectedComponentsWithStats(~img_bin_final, connectivity=8, ltype=cv2.CV_32S)\n",
    "\n",
    "        for x,y,w,h,area in stats[2:]:\n",
    "            img2=cv2.rectangle(image_array,(x,y),(x+w,y+h),(170,255,0),2)\n",
    "        #Image.fromarray(cv2.subtract(img_bin,img_bin_final)).show()\n",
    "        fin_image=cv2.subtract(img_bin,img_bin_final)\n",
    "        #fin_image = cv2.cvtColor(fin_image, cv2.COLOR_GRAY2RGB)\n",
    "        #fin_image = cv2.cvtColor(fin_image, cv2.COLOR_BGR2HSV)\n",
    "        cv2.imshow(str(x),fin_image)\n",
    "        cv2.waitKey(1000)\n",
    "        cv2.destroyAllWindows()\n",
    "        imgThresh=cv2.threshold(fin_image,0,255,cv2.THRESH_BINARY)[1]\n",
    "        totalpixels=cv2.countNonZero(imgThresh)\n",
    "        #print(totalpixels)\n",
    "        if totalpixels>42 and totalpixels<200:\n",
    "            totalpixels=1\n",
    "        else:\n",
    "            totalpixels=0\n",
    "        print(f'{r[3]}:{totalpixels}')\n",
    "        myData.append(totalpixels)"
   ]
  },
  {
   "cell_type": "code",
   "execution_count": null,
   "id": "ff54ef0a",
   "metadata": {},
   "outputs": [],
   "source": [
    "# signatures detected are directly stored in\n",
    "'C:\\Users\\LENOVO\\Desktop\\Files\\Inteliment\\Testing_codes\\Signs_TrOCR'"
   ]
  }
 ],
 "metadata": {
  "kernelspec": {
   "display_name": "Python 3 (ipykernel)",
   "language": "python",
   "name": "python3"
  },
  "language_info": {
   "codemirror_mode": {
    "name": "ipython",
    "version": 3
   },
   "file_extension": ".py",
   "mimetype": "text/x-python",
   "name": "python",
   "nbconvert_exporter": "python",
   "pygments_lexer": "ipython3",
   "version": "3.9.7"
  }
 },
 "nbformat": 4,
 "nbformat_minor": 5
}
