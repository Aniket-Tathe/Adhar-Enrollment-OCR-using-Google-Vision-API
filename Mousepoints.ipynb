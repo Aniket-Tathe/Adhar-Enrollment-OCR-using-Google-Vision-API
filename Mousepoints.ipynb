{
 "cells": [
  {
   "cell_type": "code",
   "execution_count": 1,
   "id": "a25e033d",
   "metadata": {},
   "outputs": [],
   "source": [
    "import cv2\n",
    "import random"
   ]
  },
  {
   "cell_type": "code",
   "execution_count": 2,
   "id": "c27ba16e",
   "metadata": {},
   "outputs": [],
   "source": [
    "scale=0.29\n",
    "circles=[]\n",
    "counter=0\n",
    "counter2=0\n",
    "point1=[]\n",
    "point2=[]\n",
    "myPoints=[]\n",
    "myColor=[]"
   ]
  },
  {
   "cell_type": "code",
   "execution_count": 3,
   "id": "b9999251",
   "metadata": {},
   "outputs": [],
   "source": [
    "def mousePoints(event,x,y,flags,params):\n",
    "    global counter,point1,point2,counter2,circles,myColor\n",
    "    if event==cv2.EVENT_LBUTTONDOWN:\n",
    "        if counter==0:\n",
    "            point1=int(x//scale),int(y//scale)\n",
    "            counter+=1\n",
    "            myColor=(random.randint(0,2)*200,random.randint(0,2)*200,random.randint(0,2)*200)\n",
    "        elif counter==1:\n",
    "            point2=int(x//scale),int(y//scale)\n",
    "            type1=input('Enter type')\n",
    "            name=input('Enter Name')\n",
    "            myPoints.append([point1,point2,type1,name])\n",
    "            counter=0\n",
    "        circles.append([x,y,myColor])\n",
    "        counter2+=1        "
   ]
  },
  {
   "cell_type": "code",
   "execution_count": 4,
   "id": "ac22806f",
   "metadata": {},
   "outputs": [],
   "source": [
    "img=cv2.imread(\"C:\\\\Users\\\\LENOVO\\\\Desktop\\\\Files\\\\Inteliment\\\\Data\\\\aadhaar_enrolment_correction_form_version_2.1-1.jpg\")\n",
    "img=cv2.resize(img,(0,0),None,scale,scale)\n",
    "cv2.imshow('test',img)\n",
    "cv2.waitKey(6000) # for 10sec then close\n",
    "cv2.destroyAllWindows()"
   ]
  },
  {
   "cell_type": "code",
   "execution_count": 5,
   "id": "4f437b9e",
   "metadata": {},
   "outputs": [
    {
     "name": "stdout",
     "output_type": "stream",
     "text": [
      "Enter typebox\n",
      "Enter Namehcd\n",
      "[[(110, 510), (144, 544), 'box', 'hcd']]\n"
     ]
    }
   ],
   "source": [
    "while True:\n",
    "    #to display points\n",
    "    for x,y,color in circles:\n",
    "        cv2.circle(img,(x,y),3,color,cv2.FILLED)\n",
    "    cv2.imshow('Original Image',img)\n",
    "    cv2.setMouseCallback('Original Image',mousePoints)\n",
    "    if cv2.waitKey(1) & 0xFF == ord('s'):\n",
    "        print(myPoints)\n",
    "        break"
   ]
  },
  {
   "cell_type": "code",
   "execution_count": 7,
   "id": "85763531",
   "metadata": {},
   "outputs": [
    {
     "data": {
      "text/plain": [
       "[[(417, 820), (2368, 913), 'text', 'name'],\n",
       " [(406, 965), (437, 1000), 'box', 'male'],\n",
       " [(589, 965), (627, 996), 'box', 'female'],\n",
       " [(817, 968), (848, 993), 'box', 'transgender'],\n",
       " [(1427, 917), (1524, 1034), 'text', 'age'],\n",
       " [(1975, 913), (2368, 968), 'text', 'date of birth'],\n",
       " [(1693, 989), (1731, 1017), 'box', 'declared'],\n",
       " [(2034, 986), (2068, 1020), 'box', 'verified'],\n",
       " [(458, 1044), (2365, 1137), 'text', 'address'],\n",
       " [(617, 1127), (1234, 1224), 'text', 'house no/apartment'],\n",
       " [(1624, 1134), (2372, 1224), 'text', 'road/lane'],\n",
       " [(420, 1213), (1241, 1303), 'text', 'landmark'],\n",
       " [(1672, 1213), (2372, 1303), 'text', 'area/locality'],\n",
       " [(575, 1300), (1158, 1389), 'text', 'village/town/city'],\n",
       " [(1489, 1303), (2348, 1379), 'text', 'post office'],\n",
       " [(379, 1386), (927, 1468), 'text', 'district'],\n",
       " [(1179, 1382), (1644, 1468), 'text', 'sub-district'],\n",
       " [(1786, 1379), (2375, 1468), 'text', 'state'],\n",
       " [(351, 1472), (924, 1551), 'text', 'email'],\n",
       " [(1172, 1462), (1644, 1555), 'text', 'mobile number'],\n",
       " [(1851, 1468), (2362, 1551), 'text', 'pincode']]"
      ]
     },
     "execution_count": 7,
     "metadata": {},
     "output_type": "execute_result"
    }
   ],
   "source": [
    "[[(417, 820), (2368, 913), 'text', 'name'], \n",
    " [(406, 965), (437, 1000), 'box', 'male'],\n",
    " [(589, 965), (627, 996), 'box', 'female'],\n",
    " [(817, 968), (848, 993), 'box', 'transgender'],\n",
    " [(1427, 917), (1524, 1034), 'text', 'age'],\n",
    " [(1975, 913), (2368, 968), 'text', 'date of birth'],\n",
    " [(1693, 989), (1731, 1017), 'box', 'declared'], \n",
    " [(2034, 986), (2068, 1020), 'box', 'verified'],\n",
    " [(458, 1044), (2365, 1137), 'text', 'address'], \n",
    " [(617, 1127), (1234, 1224), 'text', 'house no/apartment'],\n",
    " [(1624, 1134), (2372, 1224), 'text', 'road/lane'],\n",
    " [(420, 1213), (1241, 1303), 'text', 'landmark'],\n",
    " [(1672, 1213), (2372, 1303), 'text', 'area/locality'],\n",
    " [(575, 1300), (1158, 1389), 'text', 'village/town/city'],\n",
    " [(1489, 1303), (2348, 1379), 'text', 'post office'],\n",
    " [(379, 1386), (927, 1468), 'text', 'district'],\n",
    " [(1179, 1382), (1644, 1468), 'text', 'sub-district'],\n",
    " [(1786, 1379), (2375, 1468), 'text', 'state'],\n",
    " [(351, 1472), (924, 1551), 'text', 'email'],\n",
    " [(1172, 1462), (1644, 1555), 'text', 'mobile number'],\n",
    " [(1851, 1468), (2362, 1551), 'text', 'pincode']]"
   ]
  },
  {
   "cell_type": "code",
   "execution_count": 1,
   "id": "ec05c232",
   "metadata": {},
   "outputs": [
    {
     "ename": "NameError",
     "evalue": "name 'circles' is not defined",
     "output_type": "error",
     "traceback": [
      "\u001b[1;31m---------------------------------------------------------------------------\u001b[0m",
      "\u001b[1;31mNameError\u001b[0m                                 Traceback (most recent call last)",
      "\u001b[1;32m~\\AppData\\Local\\Temp/ipykernel_14988/568075652.py\u001b[0m in \u001b[0;36m<module>\u001b[1;34m\u001b[0m\n\u001b[0;32m      1\u001b[0m \u001b[1;32mwhile\u001b[0m \u001b[1;32mTrue\u001b[0m\u001b[1;33m:\u001b[0m\u001b[1;33m\u001b[0m\u001b[1;33m\u001b[0m\u001b[0m\n\u001b[0;32m      2\u001b[0m     \u001b[1;31m#to display points\u001b[0m\u001b[1;33m\u001b[0m\u001b[1;33m\u001b[0m\u001b[0m\n\u001b[1;32m----> 3\u001b[1;33m     \u001b[1;32mfor\u001b[0m \u001b[0mx\u001b[0m\u001b[1;33m,\u001b[0m\u001b[0my\u001b[0m\u001b[1;33m,\u001b[0m\u001b[0mcolor\u001b[0m \u001b[1;32min\u001b[0m \u001b[0mcircles\u001b[0m\u001b[1;33m:\u001b[0m\u001b[1;33m\u001b[0m\u001b[1;33m\u001b[0m\u001b[0m\n\u001b[0m\u001b[0;32m      4\u001b[0m         \u001b[0mcv2\u001b[0m\u001b[1;33m.\u001b[0m\u001b[0mcircle\u001b[0m\u001b[1;33m(\u001b[0m\u001b[0mimg\u001b[0m\u001b[1;33m,\u001b[0m\u001b[1;33m(\u001b[0m\u001b[0mx\u001b[0m\u001b[1;33m,\u001b[0m\u001b[0my\u001b[0m\u001b[1;33m)\u001b[0m\u001b[1;33m,\u001b[0m\u001b[1;36m3\u001b[0m\u001b[1;33m,\u001b[0m\u001b[0mcolor\u001b[0m\u001b[1;33m,\u001b[0m\u001b[0mcv2\u001b[0m\u001b[1;33m.\u001b[0m\u001b[0mFILLED\u001b[0m\u001b[1;33m)\u001b[0m\u001b[1;33m\u001b[0m\u001b[1;33m\u001b[0m\u001b[0m\n\u001b[0;32m      5\u001b[0m     \u001b[0mcv2\u001b[0m\u001b[1;33m.\u001b[0m\u001b[0mimshow\u001b[0m\u001b[1;33m(\u001b[0m\u001b[1;34m'Original Image'\u001b[0m\u001b[1;33m,\u001b[0m\u001b[0mimg\u001b[0m\u001b[1;33m)\u001b[0m\u001b[1;33m\u001b[0m\u001b[1;33m\u001b[0m\u001b[0m\n",
      "\u001b[1;31mNameError\u001b[0m: name 'circles' is not defined"
     ]
    }
   ],
   "source": [
    "while True:\n",
    "    #to display points\n",
    "    for x,y,color in circles:\n",
    "        cv2.circle(img,(x,y),3,color,cv2.FILLED)\n",
    "    cv2.imshow('Original Image',img)\n",
    "    cv2.setMouseCallback('Original Image',mousePoints)\n",
    "    if cv2.waitKey(1) & 0xFF == ord('s'):\n",
    "        print(myPoints)\n",
    "        break"
   ]
  },
  {
   "cell_type": "code",
   "execution_count": 8,
   "id": "f848d7cb",
   "metadata": {},
   "outputs": [],
   "source": [
    "roi3=[[(100, 493), (162, 558), 'box', 'resident'], \n",
    "     [(400, 493), (462, 558), 'box', 'nri'],\n",
    "     [(227, 741), (293, 803), 'box', 'biometric'],\n",
    "     [(1062, 741), (1124, 796), 'box', 'mobile'],\n",
    "     [(1265, 744), (1327, 800), 'box', 'date of birth'],\n",
    "     [(1568, 741), (1627, 800), 'box', 'address'], \n",
    "     [(1789, 744), (1848, 803), 'box', 'name'],\n",
    "     [(1972, 741), (2031, 803), 'box', 'gender'],\n",
    "     [(2182, 744), (2244, 803), 'box', 'email'], \n",
    "     [(396, 951), (455, 1010), 'box', 'male'], \n",
    "     [(582, 955), (644, 1013), 'box', 'female'], \n",
    "     [(803, 955), (862, 1013), 'box', 'transgender'],\n",
    "     [(1675, 972), (1748, 1034), 'box', 'declared'],\n",
    "     [(2020, 972), (2082, 1034), 'box', 'verified']]"
   ]
  },
  {
   "cell_type": "code",
   "execution_count": null,
   "id": "e1312d7e",
   "metadata": {},
   "outputs": [],
   "source": [
    "roi4=[[(110, 503), (148, 544), 'box', 'resident'],\n",
    "      [(406, 506), (451, 544), 'box', 'nri'],\n",
    "      [(241, 751), (279, 793), 'box', 'biometric'], \n",
    "      [(1072, 748), (1117, 793), 'box', 'mobile'], \n",
    "      [(1275, 748), (1317, 793), 'box', 'birthdate'],\n",
    "      [(1575, 755), (1617, 796), 'box', 'address'], \n",
    "      [(1800, 751), (1837, 793), 'box', 'name'],\n",
    "      [(1982, 748), (2020, 796), 'box', 'gender'],\n",
    "      [(2193, 751), (2234, 793), 'box', 'email']]"
   ]
  },
  {
   "cell_type": "code",
   "execution_count": 11,
   "id": "008f00a3",
   "metadata": {},
   "outputs": [],
   "source": [
    "roi5=[[(113, 506), (144, 541), 'box', 'resident'],\n",
    "      [(410, 506), (444, 541), 'box', 'nri'], \n",
    "      [(213, 631), (1231, 703), 'text', 'pre-enrollment id'],\n",
    "      [(1341, 641), (2096, 710), 'text', 'aadhar number'],\n",
    "      [(241, 755), (275, 786), 'box', 'biometric'],\n",
    "      [(1072, 755), (1110, 782), 'box', 'number'],\n",
    "      [(1279, 751), (1310, 786), 'box', 'date of birth'],\n",
    "      [(1575, 755), (1617, 796), 'box', 'address'], \n",
    "      [(1800, 751), (1837, 793), 'box', 'name'],\n",
    "      [(1982, 748), (2020, 796), 'box', 'gender'],\n",
    "      [(2193, 751), (2234, 793), 'box', 'email'],\n",
    "      [(417, 820), (2368, 913), 'text', 'name'], \n",
    "      [(406, 965), (437, 1000), 'box', 'male'],\n",
    "      [(589, 965), (627, 996), 'box', 'female'],\n",
    "      [(817, 968), (848, 993), 'box', 'transgender'],\n",
    "      [(1427, 917), (1524, 1034), 'text', 'age'],\n",
    "      [(1975, 913), (2368, 968), 'text', 'date of birth'],\n",
    "      [(1693, 989), (1731, 1017), 'box', 'declared'], \n",
    "      [(2034, 986), (2068, 1020), 'box', 'verified'],\n",
    "      [(458, 1044), (2365, 1137), 'text', 'address'], \n",
    "      [(617, 1127), (1234, 1224), 'text', 'house no/apartment'],\n",
    "      [(1624, 1134), (2372, 1224), 'text', 'road/lane'],\n",
    "      [(420, 1213), (1241, 1303), 'text', 'landmark'],\n",
    "      [(1672, 1213), (2372, 1303), 'text', 'area/locality'],\n",
    "      [(575, 1300), (1158, 1389), 'text', 'village/town/city'],\n",
    "      [(1489, 1303), (2348, 1379), 'text', 'post office'],\n",
    "      [(379, 1386), (927, 1468), 'text', 'district'],\n",
    "      [(1179, 1382), (1644, 1468), 'text', 'sub-district'],\n",
    "      [(1786, 1379), (2375, 1468), 'text', 'state'],\n",
    "      [(351, 1472), (924, 1551), 'text', 'email'],\n",
    "      [(1172, 1462), (1644, 1555), 'text', 'mobile number'],\n",
    "      [(1851, 1468), (2362, 1551), 'text', 'pincode']]\n"
   ]
  },
  {
   "cell_type": "code",
   "execution_count": null,
   "id": "a09a5457",
   "metadata": {},
   "outputs": [],
   "source": [
    "[(1800, 751), (1837, 793), 'box', 'name']\n",
    "[[(213, 627), (1220, 727), 'text', 'pre enrollment id'], [(417, 831), (2172, 917), 'text', 'name'], [(472, 1051), (1548, 1144), 'text', 'address']]"
   ]
  },
  {
   "cell_type": "code",
   "execution_count": 8,
   "id": "077eaf80",
   "metadata": {},
   "outputs": [],
   "source": [
    "roi6=[[(113, 506), (144, 541), 'box', 'resident'],\n",
    "      [(410, 506), (444, 541), 'box', 'nri'], \n",
    "      [(213, 627), (1220, 727), 'text', 'pre enrollment id'],\n",
    "      [(1341, 641), (2096, 710), 'text', 'aadhar number'],\n",
    "      [(241, 755), (275, 786), 'box', 'biometric'],\n",
    "      [(1072, 755), (1110, 782), 'box', 'number'],\n",
    "      [(1279, 751), (1310, 786), 'box', 'date of birth'],\n",
    "      [(1575, 755), (1617, 796), 'box', 'address'], \n",
    "      [(1800, 751), (1837, 793), 'box', 'name'],\n",
    "      [(1982, 748), (2020, 796), 'box', 'gender'],\n",
    "      [(2193, 751), (2234, 793), 'box', 'email'],\n",
    "      [(417, 831), (2172, 917), 'text', 'name'], \n",
    "      [(406, 965), (437, 1000), 'box', 'male'],\n",
    "      [(589, 965), (627, 996), 'box', 'female'],\n",
    "      [(807, 958), (838, 983), 'box', 'transgender'],\n",
    "      [(1427, 917), (1524, 1034), 'text', 'age'],\n",
    "      [(1975, 913), (2368, 968), 'text', 'date of birth'],\n",
    "      [(1693, 989), (1731, 1017), 'box', 'declared'], \n",
    "      [(2034, 986), (2068, 1020), 'box', 'verified'],\n",
    "      [(472, 1051), (1548, 1144), 'text', 'address'], \n",
    "      [(617, 1127), (1234, 1224), 'text', 'house no/apartment'],\n",
    "      [(1624, 1134), (2372, 1224), 'text', 'road/lane'],\n",
    "      [(420, 1213), (1241, 1303), 'text', 'landmark'],\n",
    "      [(1672, 1213), (2372, 1303), 'text', 'area/locality'],\n",
    "      [(575, 1300), (1158, 1389), 'text', 'village/town/city'],\n",
    "      [(1489, 1303), (2348, 1379), 'text', 'post office'],\n",
    "      [(379, 1386), (927, 1468), 'text', 'district'],\n",
    "      [(1179, 1382), (1644, 1468), 'text', 'sub-district'],\n",
    "      [(1786, 1379), (2375, 1468), 'text', 'state'],\n",
    "      [(351, 1472), (924, 1551), 'text', 'email'],\n",
    "      [(1172, 1462), (1644, 1555), 'text', 'mobile number'],\n",
    "      [(1851, 1468), (2362, 1551), 'text', 'pincode'],\n",
    "      [(444, 1568), (482, 1603), 'box', 'father'],\n",
    "      [(662, 1568), (696, 1603), 'box', 'mother'],\n",
    "      [(896, 1572), (927, 1606), 'box', 'guardian'],\n",
    "      [(1155, 1572), (1189, 1600), 'box', 'husband'],\n",
    "      [(1406, 1572), (1441, 1603), 'box', 'wife'], \n",
    "      [(362, 1682), (2362, 1755), 'text', 'name of father/mother/etc'],\n",
    "      [(534, 1751), (2027, 1824), 'text', 'aadhar of father/mother/etc'], \n",
    "      [(482, 1848), (506, 1879), 'box', 'document based'],\n",
    "      [(872, 1848), (903, 1875), 'box', 'introducer based'],\n",
    "      [(1265, 1848), (1293, 1879), 'box', 'head of family'],\n",
    "      [(351, 2110), (1234, 2182), 'text', 'poi'],\n",
    "      [(1493, 2103), (2365, 2182), 'text', 'poa'], \n",
    "      [(362, 2200), (744, 2244), 'text', 'dob1'], \n",
    "      [(679, 2200), (1231, 2282), 'text', 'dob2'],\n",
    "      [(1500, 2200), (2365, 2248), 'text', 'por'],\n",
    "      [(451, 2386), (917, 2455), 'text', 'introducer aadhar number'],\n",
    "      [(1410, 2317), (1441, 2344), 'box', 'hof father'],\n",
    "      [(1593, 2317), (1624, 2348), 'box', 'hof mother'],\n",
    "      [(1793, 2317), (1824, 2344), 'box', 'hof guardian'],\n",
    "      [(2017, 2320), (2051, 2348), 'box', 'hof husband'],\n",
    "      [(2241, 2317), (2275, 2351), 'box', 'hof wife'],\n",
    "      [(1362, 2362), (2365, 2455), 'text', 'hof aadhar number'],\n",
    "      [(903, 2479), (1724, 2548), 'text', 'confirm identity'],\n",
    "      [(575, 2565), (1300, 2648), 'text', 'introducer hof name'],\n",
    "      [(1817, 2548), (2365, 2644), 'sign', 'sign of hof'],\n",
    "      [(113, 2886), (520, 2989), 'sign', 'verifier sign/stamp'],\n",
    "      [(1893, 2886), (2368, 3044), 'sign', 'applicant'],\n",
    "      [(1827, 3158), (2362, 3248), 'text', 'date and time of enrollment']]"
   ]
  },
  {
   "cell_type": "code",
   "execution_count": null,
   "id": "2fee9249",
   "metadata": {},
   "outputs": [],
   "source": []
  }
 ],
 "metadata": {
  "kernelspec": {
   "display_name": "Python 3 (ipykernel)",
   "language": "python",
   "name": "python3"
  },
  "language_info": {
   "codemirror_mode": {
    "name": "ipython",
    "version": 3
   },
   "file_extension": ".py",
   "mimetype": "text/x-python",
   "name": "python",
   "nbconvert_exporter": "python",
   "pygments_lexer": "ipython3",
   "version": "3.9.7"
  }
 },
 "nbformat": 4,
 "nbformat_minor": 5
}
