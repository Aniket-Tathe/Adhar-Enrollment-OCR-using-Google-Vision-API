{
 "cells": [
  {
   "cell_type": "code",
   "execution_count": 1,
   "id": "038a84b8",
   "metadata": {},
   "outputs": [],
   "source": [
    "import cv2\n",
    "import numpy as np\n",
    "import pytesseract\n",
    "import os\n",
    "\n",
    "import os, io\n",
    "from google.cloud import vision\n",
    "from google.cloud.vision_v1 import types\n",
    "import pandas as pd"
   ]
  },
  {
   "cell_type": "code",
   "execution_count": 2,
   "id": "8f005c0b",
   "metadata": {},
   "outputs": [],
   "source": [
    "imgQ=cv2.imread(\"C:\\\\Users\\\\LENOVO\\\\Desktop\\\\Files\\\\Inteliment\\\\Data\\\\aadhaar_enrolment_correction_form_version_2.1-1.jpg\")"
   ]
  },
  {
   "cell_type": "code",
   "execution_count": 3,
   "id": "4de2c702",
   "metadata": {},
   "outputs": [],
   "source": [
    "os.environ['GOOGLE_APPLICATION_CREDENTIALS'] = r'C:\\Users\\LENOVO\\Desktop\\Files\\Inteliment\\Data\\token.json'\n",
    "client = vision.ImageAnnotatorClient()"
   ]
  },
  {
   "cell_type": "code",
   "execution_count": 4,
   "id": "c129dfbf",
   "metadata": {},
   "outputs": [
    {
     "name": "stdout",
     "output_type": "stream",
     "text": [
      "3340 2480 3\n"
     ]
    }
   ],
   "source": [
    "h,w,c=imgQ.shape\n",
    "print(h,w,c)"
   ]
  },
  {
   "cell_type": "code",
   "execution_count": 5,
   "id": "d8066962",
   "metadata": {},
   "outputs": [],
   "source": [
    "orb=cv2.ORB_create(6300)\n",
    "kp1,des1=orb.detectAndCompute(imgQ,None)"
   ]
  },
  {
   "cell_type": "code",
   "execution_count": 6,
   "id": "b685d3a2",
   "metadata": {},
   "outputs": [],
   "source": [
    "imgKp1=cv2.drawKeypoints(imgQ,kp1,None) # to see keypoints"
   ]
  },
  {
   "cell_type": "code",
   "execution_count": 7,
   "id": "2bd5a494",
   "metadata": {},
   "outputs": [
    {
     "name": "stdout",
     "output_type": "stream",
     "text": [
      "3340 2480 3\n"
     ]
    }
   ],
   "source": [
    "cv2.imshow('keypoints',imgKp1) \n",
    "h1,w1,c1=imgQ.shape\n",
    "print(h1,w1,c1)\n",
    "cv2.imshow('output',imgQ)\n",
    "cv2.waitKey(5000) \n",
    "cv2.destroyAllWindows()"
   ]
  },
  {
   "cell_type": "code",
   "execution_count": 8,
   "id": "78ef2215",
   "metadata": {},
   "outputs": [
    {
     "name": "stdout",
     "output_type": "stream",
     "text": [
      "['3.jpg']\n"
     ]
    }
   ],
   "source": [
    "path='C:\\\\Users\\\\LENOVO\\\\Desktop\\\\Files\\\\Inteliment\\\\Data\\\\piclist'\n",
    "\n",
    "Piclist=os.listdir(path)\n",
    "\n",
    "print(Piclist)"
   ]
  },
  {
   "cell_type": "code",
   "execution_count": 9,
   "id": "227970d5",
   "metadata": {},
   "outputs": [],
   "source": [
    "roi6=[[(113, 506), (144, 541), 'box', 'resident'],\n",
    "      [(410, 506), (444, 541), 'box', 'nri'], \n",
    "      [(213, 627), (1220, 727), 'text', 'pre enrollment id'],\n",
    "      [(1341, 641), (2096, 710), 'text', 'aadhar number'],\n",
    "      [(241, 755), (275, 786), 'box', 'biometric'],\n",
    "      [(1072, 755), (1110, 782), 'box', 'number'],\n",
    "      [(1279, 751), (1310, 786), 'box', 'date of birth'],\n",
    "      [(1575, 755), (1617, 796), 'box', 'address'], \n",
    "      [(1800, 751), (1837, 793), 'box', 'name'],\n",
    "      [(1982, 748), (2020, 796), 'box', 'gender'],\n",
    "      [(2193, 751), (2234, 793), 'box', 'email'],\n",
    "      [(417, 831), (2172, 917), 'text', 'name'], \n",
    "      [(406, 965), (437, 1000), 'box', 'male'],\n",
    "      [(589, 965), (627, 996), 'box', 'female'],\n",
    "      [(807, 958), (838, 983), 'box', 'transgender'],\n",
    "      [(1427, 917), (1524, 1034), 'text', 'age'],\n",
    "      [(1975, 913), (2368, 968), 'text', 'date of birth'],\n",
    "      [(1693, 989), (1731, 1017), 'box', 'declared'], \n",
    "      [(2034, 986), (2068, 1020), 'box', 'verified'],\n",
    "      [(472, 1051), (1548, 1144), 'text', 'address'], \n",
    "      [(617, 1127), (1234, 1224), 'text', 'house no/apartment'],\n",
    "      [(1624, 1134), (2372, 1224), 'text', 'road/lane'],\n",
    "      [(420, 1213), (1241, 1303), 'text', 'landmark'],\n",
    "      [(1672, 1213), (2372, 1303), 'text', 'area/locality'],\n",
    "      [(575, 1300), (1158, 1389), 'text', 'village/town/city'],\n",
    "      [(1489, 1303), (2348, 1379), 'text', 'post office'],\n",
    "      [(379, 1386), (927, 1468), 'text', 'district'],\n",
    "      [(1179, 1382), (1644, 1468), 'text', 'sub-district'],\n",
    "      [(1786, 1379), (2375, 1468), 'text', 'state'],\n",
    "      [(351, 1472), (924, 1551), 'text', 'email'],\n",
    "      [(1172, 1462), (1644, 1555), 'text', 'mobile number'],\n",
    "      [(1851, 1468), (2362, 1551), 'text', 'pincode'],\n",
    "      [(444, 1568), (482, 1603), 'box', 'father'],\n",
    "      [(662, 1568), (696, 1603), 'box', 'mother'],\n",
    "      [(896, 1572), (927, 1606), 'box', 'guardian'],\n",
    "      [(1155, 1572), (1189, 1600), 'box', 'husband'],\n",
    "      [(1406, 1572), (1441, 1603), 'box', 'wife'], \n",
    "      [(362, 1682), (2362, 1755), 'text', 'name of father/mother/etc'],\n",
    "      [(534, 1751), (2027, 1824), 'text', 'aadhar of father/mother/etc'], \n",
    "      [(482, 1848), (506, 1879), 'box', 'document based'],\n",
    "      [(872, 1848), (903, 1875), 'box', 'introducer based'],\n",
    "      [(1265, 1848), (1293, 1879), 'box', 'head of family'],\n",
    "      [(351, 2110), (1234, 2182), 'text', 'poi'],\n",
    "      [(1493, 2103), (2365, 2182), 'text', 'poa'], \n",
    "      [(362, 2200), (744, 2244), 'text', 'dob1'], \n",
    "      [(679, 2200), (1231, 2282), 'text', 'dob2'],\n",
    "      [(1500, 2200), (2365, 2248), 'text', 'por'],\n",
    "      [(451, 2386), (917, 2455), 'text', 'introducer aadhar number'],\n",
    "      [(1410, 2317), (1441, 2344), 'box', 'hof father'],\n",
    "      [(1593, 2317), (1624, 2348), 'box', 'hof mother'],\n",
    "      [(1793, 2317), (1824, 2344), 'box', 'hof guardian'],\n",
    "      [(2017, 2320), (2051, 2348), 'box', 'hof husband'],\n",
    "      [(2241, 2317), (2275, 2351), 'box', 'hof wife'],\n",
    "      [(1362, 2362), (2365, 2455), 'text', 'hof aadhar number'],\n",
    "      [(903, 2479), (1724, 2548), 'text', 'confirm identity'],\n",
    "      [(575, 2565), (1300, 2648), 'text', 'introducer hof name'],\n",
    "      [(1817, 2548), (2365, 2644), 'sign', 'sign of hof'],\n",
    "      [(113, 2886), (520, 2989), 'sign', 'verifier sign/stamp'],\n",
    "      [(1893, 2886), (2368, 3044), 'sign', 'applicant'],\n",
    "      [(1827, 3158), (2362, 3248), 'text', 'date and time of enrollment']]"
   ]
  },
  {
   "cell_type": "code",
   "execution_count": 10,
   "id": "0f1da843",
   "metadata": {},
   "outputs": [],
   "source": [
    "for y in Piclist:\n",
    "    img=cv2.imread(path+'\\\\'+y)\n",
    "    h,w,c=img.shape\n",
    "    #print(h,w)\n",
    "    #img=cv2.resize(img,(w//3,h//3))\n",
    "    #h,w,c=img.shape\n",
    "    #print(h,w)\n",
    "    #cv2.imshow(y,img)\n",
    "    #cv2.waitKey(4000)\n",
    "    #cv2.destroyAllWindows()\n",
    "    kp2,des2=orb.detectAndCompute(img,None)\n",
    "    bf=cv2.BFMatcher(cv2.NORM_HAMMING)\n",
    "    matches=bf.match(des2,des1) # map des2 to des1\n",
    "    matches=list(matches)\n",
    "    matches.sort(key=lambda x: x.distance)\n",
    "    good=matches[:int(len(matches)*(95/100))]\n",
    "    imgMatch=cv2.drawMatches(img,kp2,imgQ,kp1,good,None,flags=2)\n",
    "    #imgMatch=cv2.resize(imgMatch,(w//3,h//3))\n",
    "    #cv2.imshow(y,imgMatch)\n",
    "    #cv2.waitKey(4000)\n",
    "    #cv2.destroyAllWindows()\n",
    "    \n",
    "    srcPoints=np.float32([kp2[m.queryIdx].pt for m in good]).reshape(-1,1,2)\n",
    "    dstPoints=np.float32([kp1[m.trainIdx].pt for m in good]).reshape(-1,1,2)\n",
    "    \n",
    "    M,_=cv2.findHomography(srcPoints,dstPoints,cv2.RANSAC,5.0)\n",
    "    imgScan=cv2.warpPerspective(img,M,(w,h))\n",
    "    #imgScan=cv2.resize(imgScan,(w//3,h//3))\n",
    "    cv2.imshow(y,imgScan)\n",
    "    cv2.waitKey(4000)\n",
    "    cv2.destroyAllWindows()\n",
    "    imgShow=imgScan.copy()\n",
    "    imgMask=np.zeros_like(imgShow)"
   ]
  },
  {
   "cell_type": "code",
   "execution_count": 11,
   "id": "c2fcbf1a",
   "metadata": {},
   "outputs": [],
   "source": [
    "GCV=[]"
   ]
  },
  {
   "cell_type": "code",
   "execution_count": 12,
   "id": "bce3b666",
   "metadata": {},
   "outputs": [
    {
     "name": "stdout",
     "output_type": "stream",
     "text": [
      "resident:1\n",
      "nri:0\n",
      "pre enrollment id:\n",
      "aadhar number:11/2/3/4\n",
      "5678\n",
      "9101\n",
      "biometric:1\n",
      "number:1\n",
      "date of birth:0\n",
      "address:0\n",
      "name:0\n",
      "gender:1\n",
      "email:0\n",
      "name:Shaunah\n",
      "Samir Sindgi\n",
      "male:1\n",
      "female:0\n",
      "transgender:0\n",
      "age:21\n",
      "date of birth:07/01/2001\n",
      "declared:0\n",
      "verified:0\n",
      "address:\n",
      "house no/apartment:10918\n",
      "road/lane:Prabhat Road, Lane-14\n",
      "landmark:Income tax, lane\n",
      "area/locality:Erandwane\n",
      "village/town/city:Pune City\n",
      "post office:Deccan\n",
      "district:Pune\n",
      "sub-district:\n",
      "state:Maharashtra\n",
      "email:Shaunak 112@gmail.c\n",
      "mobile number:9850893837\n",
      "pincode:411004\n",
      "father:1\n",
      "mother:0\n",
      "guardian:1\n",
      "husband:0\n",
      "wife:1\n",
      "name of father/mother/etc:Samir Sindgi\n",
      "aadhar of father/mother/etc:9876543210\n",
      "document based:1\n",
      "introducer based:1\n",
      "head of family:1\n",
      "poi:411004\n",
      "poa:123456\n",
      "dob1:07/01/2001\n",
      "dob2:201\n",
      "por:A B C D E\n",
      "introducer aadhar number:\n",
      "hof father:0\n",
      "hof mother:0\n",
      "hof guardian:0\n",
      "hof husband:0\n",
      "hof wife:0\n",
      "hof aadhar number:\n",
      "confirm identity:Shaunah Sindai\n",
      "introducer hof name:\n",
      "date and time of enrollment:Wednesday\n"
     ]
    }
   ],
   "source": [
    "for x,r in enumerate(roi6):\n",
    "    cv2.rectangle(imgMask,((r[0][0]),r[0][1]),((r[1][0]),r[1][1]),(0,255,0),cv2.FILLED)\n",
    "    imgShow=cv2.addWeighted(imgShow,0.99,imgMask,0.1,0)\n",
    "    \n",
    "    imgCrop=imgScan[r[0][1]:r[1][1],r[0][0]:r[1][0]]\n",
    "\n",
    "    cv2.imshow(str(x),imgCrop)\n",
    "    cv2.waitKey(1000)\n",
    "    cv2.destroyAllWindows()\n",
    "    #if r[2]=='text':\n",
    "      #  result=ocr_image(imgCrop)\n",
    "       # print(f'{r[3]}:{result}')\n",
    "       # trocr.append(result)\n",
    "    #print('####################################################################')\n",
    "\n",
    "    if r[2]=='text':\n",
    "        #print(type(imgCrop))\n",
    "        image_array=imgCrop\n",
    "        #img_v_resize = vconcat_resize(imgCrop)  \n",
    "        cv2.imwrite('vconcat_resize.jpg', image_array) \n",
    "        roi = cv2.cvtColor(image_array, cv2.COLOR_BGR2GRAY)\n",
    "        success, encoded_image = cv2.imencode('.jpg', roi)\n",
    "        roi_image = encoded_image.tobytes()\n",
    "        roi_image = vision.Image(content=roi_image)\n",
    "        response = client.text_detection(image=roi_image,image_context={\"language_hints\": [\"en\"]})\n",
    "        docText = response.full_text_annotation.text\n",
    "        print(f'{r[3]}:{docText}')\n",
    "        GCV.append(docText)\n",
    "    if r[2]=='sign':\n",
    "        cv2.imwrite(\"C://Users//LENOVO//Desktop//Files//Inteliment//Testing_codes//Signs_GCV_notfree//Sign.jpg\",imgCrop)\n",
    "    if r[2]=='box':\n",
    "        image_array=imgCrop\n",
    "        gray_scale_image = cv2.cvtColor(image_array, cv2.COLOR_BGR2GRAY)\n",
    "        _, img_bin = cv2.threshold(gray_scale_image, 0, 255, cv2.THRESH_BINARY | cv2.THRESH_OTSU)\n",
    "        img_bin = 255 - img_bin\n",
    "        line_min_width = 11\n",
    "\n",
    "        # kernel to detect horizontal lines\n",
    "        kernal_h = np.ones((1,line_min_width), np.uint8)\n",
    "\n",
    "        # kernel to detect vertical lines\n",
    "        kernal_v = np.ones((line_min_width,1), np.uint8)\n",
    "\n",
    "        # horizontal kernel on the image\n",
    "        img_bin_h= cv2.morphologyEx(img_bin, cv2.MORPH_OPEN, kernal_h)\n",
    "\n",
    "        # verical kernel on the image\n",
    "        img_bin_v = cv2.morphologyEx(img_bin, cv2.MORPH_OPEN, kernal_v)\n",
    "\n",
    "\n",
    "        # combining the image\n",
    "\n",
    "        img_bin_final=img_bin_h|img_bin_v\n",
    "        _, labels, stats,_ = cv2.connectedComponentsWithStats(~img_bin_final, connectivity=8, ltype=cv2.CV_32S)\n",
    "\n",
    "        for x,y,w,h,area in stats[2:]:\n",
    "            img2=cv2.rectangle(image_array,(x,y),(x+w,y+h),(170,255,0),2)\n",
    "        #Image.fromarray(cv2.subtract(img_bin,img_bin_final)).show()\n",
    "        fin_image=cv2.subtract(img_bin,img_bin_final)\n",
    "        #fin_image = cv2.cvtColor(fin_image, cv2.COLOR_GRAY2RGB)\n",
    "        #fin_image = cv2.cvtColor(fin_image, cv2.COLOR_BGR2HSV)\n",
    "        cv2.imshow(str(x),fin_image)\n",
    "        cv2.waitKey(1000)\n",
    "        cv2.destroyAllWindows()\n",
    "        imgThresh=cv2.threshold(fin_image,0,255,cv2.THRESH_BINARY)[1]\n",
    "        totalpixels=cv2.countNonZero(imgThresh)\n",
    "        #print(totalpixels)\n",
    "        if totalpixels>42 and totalpixels<200:\n",
    "            totalpixels=1\n",
    "        else:\n",
    "            totalpixels=0\n",
    "        print(f'{r[3]}:{totalpixels}')\n",
    "        GCV.append(totalpixels)"
   ]
  },
  {
   "cell_type": "code",
   "execution_count": 14,
   "id": "0f5c29a0",
   "metadata": {},
   "outputs": [],
   "source": [
    "# if checkbox is not filled -0\n",
    "# checkbox is filled-1\n",
    "# signature is saved in \n",
    "# \"C:\\Users\\LENOVO\\Desktop\\Files\\Inteliment\\Testing_codes\\Signs_GCV_notfree\""
   ]
  },
  {
   "cell_type": "code",
   "execution_count": 15,
   "id": "18ceb94f",
   "metadata": {},
   "outputs": [],
   "source": [
    "# this algo provided the best result among all three"
   ]
  },
  {
   "cell_type": "code",
   "execution_count": null,
   "id": "b338d946",
   "metadata": {},
   "outputs": [],
   "source": []
  }
 ],
 "metadata": {
  "kernelspec": {
   "display_name": "Python 3 (ipykernel)",
   "language": "python",
   "name": "python3"
  },
  "language_info": {
   "codemirror_mode": {
    "name": "ipython",
    "version": 3
   },
   "file_extension": ".py",
   "mimetype": "text/x-python",
   "name": "python",
   "nbconvert_exporter": "python",
   "pygments_lexer": "ipython3",
   "version": "3.9.7"
  }
 },
 "nbformat": 4,
 "nbformat_minor": 5
}
